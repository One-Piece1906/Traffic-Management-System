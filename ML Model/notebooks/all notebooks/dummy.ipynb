{
 "cells": [
  {
   "cell_type": "code",
   "execution_count": null,
   "metadata": {
    "vscode": {
     "languageId": "plaintext"
    }
   },
   "outputs": [],
   "source": [
    "import pandas as pd\n",
    "import json\n",
    "import os\n",
    "\n",
    "# Paths to the metric files\n",
    "csv_paths = [\n",
    "    \"../outputs/metrics.csv\",\n",
    "    \"../outputs/metrics2.csv\",\n",
    "    \"../outputs/metrics3.csv\",\n",
    "    \"../outputs/metrics4.csv\"\n",
    "]\n",
    "\n",
    "# JSON file path to save the summary\n",
    "summary_json_path = \"../outputs/summary.json\"\n",
    "\n",
    "# Function to calculate average vehicle count from a CSV file\n",
    "def calculate_average_vehicle_count(csv_path):\n",
    "    if not os.path.exists(csv_path):\n",
    "        print(f\"Error: File not found - {csv_path}\")\n",
    "        return None\n",
    "    metrics_df = pd.read_csv(csv_path)\n",
    "    if 'Vehicle_Count' not in metrics_df.columns:\n",
    "        print(f\"Error: 'Vehicle_Count' column not found in {csv_path}\")\n",
    "        return None\n",
    "    return metrics_df['Vehicle_Count'].mean()\n",
    "\n",
    "# Dictionary to store average vehicle counts for each file\n",
    "averages = {}\n",
    "\n",
    "# Calculate average for each file\n",
    "for csv_path in csv_paths:\n",
    "    avg_count = calculate_average_vehicle_count(csv_path)\n",
    "    if avg_count is not None:\n",
    "        averages[os.path.basename(csv_path)] = round(avg_count, 2)  # Store filename as key\n",
    "\n",
    "# Save results to JSON\n",
    "try:\n",
    "    # Load existing JSON file if it exists\n",
    "    if os.path.exists(summary_json_path):\n",
    "        with open(summary_json_path, \"r\") as json_file:\n",
    "            summary_data = json.load(json_file)\n",
    "    else:\n",
    "        summary_data = {}\n",
    "\n",
    "    # Add calculated averages to the JSON object\n",
    "    summary_data.update(averages)\n",
    "\n",
    "    # Save back to the JSON file\n",
    "    with open(summary_json_path, \"w\") as json_file:\n",
    "        json.dump(summary_data, json_file, indent=4)\n",
    "\n",
    "    print(f\"Summary saved to {summary_json_path}:\")\n",
    "    print(json.dumps(summary_data, indent=4))\n",
    "\n",
    "except Exception as e:\n",
    "    print(f\"Error saving JSON: {e}\")\n"
   ]
  },
  {
   "cell_type": "code",
   "execution_count": null,
   "metadata": {
    "vscode": {
     "languageId": "plaintext"
    }
   },
   "outputs": [],
   "source": [
    "import pandas as pd\n",
    "\n",
    "# Path to the metrics CSV file\n",
    "csv_path = \"../outputs/metrics4.csv\"\n",
    "\n",
    "# Load the CSV file\n",
    "metrics_df = pd.read_csv(csv_path)\n",
    "\n",
    "# Calculate the average vehicle count\n",
    "average_vehicle_count = metrics_df['Vehicle_Count'].mean()\n",
    "\n",
    "# Display the result\n",
    "print(f\"Average Vehicle Count: {average_vehicle_count:.2f}\")\n"
   ]
  },
  {
   "cell_type": "code",
   "execution_count": null,
   "metadata": {
    "vscode": {
     "languageId": "plaintext"
    }
   },
   "outputs": [],
   "source": [
    "# Calculate the total number of samples\n",
    "total_samples = len(X_scaled)\n",
    "\n",
    "# Calculate the percentages\n",
    "train_percentage = (len(X_train) / total_samples) * 100\n",
    "test_percentage = (len(X_test) / total_samples) * 100\n",
    "eval_percentage = (len(X_eval) / total_samples) * 100\n",
    "\n",
    "# Print the results\n",
    "print(f\"Train set: {len(X_train)} samples ({train_percentage:.2f}%)\")\n",
    "print(f\"Test set: {len(X_test)} samples ({test_percentage:.2f}%)\")\n",
    "print(f\"Evaluation set: {len(X_eval)} samples ({eval_percentage:.2f}%)\")\n"
   ]
  },
  {
   "cell_type": "code",
   "execution_count": null,
   "metadata": {
    "vscode": {
     "languageId": "plaintext"
    }
   },
   "outputs": [],
   "source": [
    "from sklearn.model_selection import train_test_split\n",
    "\n",
    "# Split data into train (70%), test (15%), eval (15%)\n",
    "X_train, X_temp, y_train, y_temp = train_test_split(X_scaled, y, test_size=0.3, random_state=42)\n",
    "X_test, X_eval, y_test, y_eval = train_test_split(X_temp, y_temp, test_size=0.5, random_state=42)\n",
    "\n",
    "# Print summary\n",
    "print(f\"Training set: {X_train.shape}, {y_train.shape}\")\n",
    "print(f\"Testing set: {X_test.shape}, {y_test.shape}\")\n",
    "print(f\"Evaluation set: {X_eval.shape}, {y_eval.shape}\")\n"
   ]
  },
  {
   "cell_type": "code",
   "execution_count": null,
   "metadata": {
    "vscode": {
     "languageId": "plaintext"
    }
   },
   "outputs": [],
   "source": [
    "import pandas as pd\n",
    "\n",
    "# Replace 'path_to_your_dataset.csv' with the actual file path\n",
    "data = pd.read_csv(\"../outputs/combined_traffic_data.csv\")\n",
    "print(data.isnull().values.any())\n",
    "print(data.isnull().sum())\n",
    "print(data.isnull().sum().sum())\n",
    "\n"
   ]
  },
  {
   "cell_type": "code",
   "execution_count": null,
   "metadata": {
    "vscode": {
     "languageId": "plaintext"
    }
   },
   "outputs": [],
   "source": [
    "from sklearn.preprocessing import StandardScaler\n",
    "\n",
    "# Separate features and target\n",
    "X = data.drop(columns=[\"Congestion_Level\"])  # Features\n",
    "y = data[\"Congestion_Level\"]  # Target\n",
    "\n",
    "# Scale numeric features\n",
    "scaler = StandardScaler()\n",
    "X_scaled = scaler.fit_transform(X)\n",
    "\n",
    "# Check transformed data\n",
    "print(f\"Scaled Features Shape: {X_scaled.shape}\")\n"
   ]
  },
  {
   "cell_type": "code",
   "execution_count": null,
   "metadata": {
    "vscode": {
     "languageId": "plaintext"
    }
   },
   "outputs": [],
   "source": [
    "import json\n",
    "import pandas as pd\n",
    "\n",
    "# Load the JSON file\n",
    "with open('../outputs/traffic_data.json', 'r') as file:\n",
    "    json_data = json.load(file)\n",
    "\n",
    "# Map the keys to directions\n",
    "directions = ['North', 'South', 'East', 'West']\n",
    "data = [{'Direction': directions[i], 'Traffic Volume': value} for i, value in enumerate(json_data.values())]\n",
    "\n",
    "# Create a DataFrame\n",
    "combined_data = pd.DataFrame(data)\n",
    "\n",
    "# Save or display the combined dataset\n",
    "print(combined_data)\n",
    "combined_data.to_csv('../outputs/combined_traffic_data.csv', index=False)\n"
   ]
  }
 ],
 "metadata": {
  "language_info": {
   "name": "python"
  }
 },
 "nbformat": 4,
 "nbformat_minor": 2
}
