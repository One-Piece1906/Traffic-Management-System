{
 "cells": [
  {
   "cell_type": "code",
   "execution_count": 1,
   "metadata": {},
   "outputs": [
    {
     "name": "stdout",
     "output_type": "stream",
     "text": [
      "  Direction Traffic_Volume\n",
      "0     North          Frame\n",
      "1     South          Frame\n",
      "2      East          Frame\n",
      "3      West          Frame\n"
     ]
    }
   ],
   "source": [
    "import pandas as pd\n",
    "\n",
    "# File names\n",
    "files = ['../outputs/frames_video1_metrics.csv', '../outputs/frames_video2_metrics.csv', '../outputs/frames_video3_metrics.csv', '../outputs/frames_video4_metrics.csv']\n",
    "directions = ['North', 'South', 'East', 'West']\n",
    "\n",
    "# Combine into a single dataset\n",
    "data = []\n",
    "for i, file in enumerate(files):\n",
    "    df = pd.read_csv(file, header=None)  # Assuming no headers in the files\n",
    "    traffic_volume = df.iloc[0, 0]  # Get the first value (traffic volume)\n",
    "    data.append({'Direction': directions[i], 'Traffic_Volume': traffic_volume})\n",
    "\n",
    "# Create a unified DataFrame\n",
    "combined_data = pd.DataFrame(data)\n",
    "\n",
    "# Save or display the combined dataset\n",
    "print(combined_data)\n",
    "combined_data.to_csv('../outputs/combined_traffic_data.csv', index=False)\n"
   ]
  },
  {
   "cell_type": "code",
   "execution_count": 2,
   "metadata": {},
   "outputs": [
    {
     "name": "stdout",
     "output_type": "stream",
     "text": [
      "  Direction  Traffic_Volume\n",
      "0     North        3.236842\n",
      "1     South       14.354610\n",
      "2      East       14.296610\n",
      "3      West       11.818770\n"
     ]
    }
   ],
   "source": [
    "import pandas as pd\n",
    "\n",
    "# File names\n",
    "files = [\n",
    "    '../outputs/frames_video1_metrics.csv',\n",
    "    '../outputs/frames_video2_metrics.csv',\n",
    "    '../outputs/frames_video3_metrics.csv',\n",
    "    '../outputs/frames_video4_metrics.csv'\n",
    "]\n",
    "directions = ['North', 'South', 'East', 'West']\n",
    "\n",
    "# Combine data into a single dataset\n",
    "data = []\n",
    "\n",
    "for i, file in enumerate(files):\n",
    "    # Read each dataset\n",
    "    df = pd.read_csv(file)\n",
    "    \n",
    "    # Check if 'Vehicle_Count' column exists\n",
    "    if 'Vehicle_Count' not in df.columns:\n",
    "        print(f\"Error: 'Vehicle_Count' column missing in {file}\")\n",
    "        continue\n",
    "    \n",
    "    # Calculate the average vehicle count\n",
    "    avg_vehicle_count = df['Vehicle_Count'].mean()\n",
    "    \n",
    "    # Add data to the combined dataset\n",
    "    data.append({'Direction': directions[i], 'Traffic_Volume': avg_vehicle_count})\n",
    "\n",
    "# Create a unified DataFrame\n",
    "combined_data = pd.DataFrame(data)\n",
    "\n",
    "# Save or display the combined dataset\n",
    "print(combined_data)\n",
    "combined_data.to_csv('../outputs/combined_traffic_data.csv', index=False)\n"
   ]
  },
  {
   "cell_type": "code",
   "execution_count": 3,
   "metadata": {},
   "outputs": [
    {
     "name": "stdout",
     "output_type": "stream",
     "text": [
      "  Direction  Traffic_Volume  Average_Speed_kmph\n",
      "0     North        3.236842            2.140290\n",
      "1     South       14.354610           57.342189\n",
      "2      East       14.296610           45.886156\n",
      "3      West       11.818770          184.353327\n"
     ]
    }
   ],
   "source": [
    "import pandas as pd\n",
    "\n",
    "# File names of your datasets\n",
    "files = ['../outputs/frames_video1_metrics.csv', '../outputs/frames_video2_metrics.csv', '../outputs/frames_video3_metrics.csv', '../outputs/frames_video4_metrics.csv']\n",
    "\n",
    "\n",
    "\n",
    "# List to store the averages of 'Average_Speed_kmph'\n",
    "average_speeds = {}\n",
    "\n",
    "# Calculate averages for 'Average_Speed_kmph' in each dataset\n",
    "for file in files:\n",
    "    # Load each dataset\n",
    "    df = pd.read_csv(file)\n",
    "    \n",
    "    # Ensure the column exists and calculate the average\n",
    "    if 'Average_Speed_kmph' in df.columns:\n",
    "        average = df['Average_Speed_kmph'].mean()\n",
    "        average_speeds[file] = average\n",
    "\n",
    "# Directions corresponding to the datasets\n",
    "directions = ['North', 'South', 'East', 'West']\n",
    "\n",
    "# Load the existing combined dataset\n",
    "combined_data = pd.read_csv('../outputs/combined_traffic_data.csv')\n",
    "\n",
    "# Add a new column 'Average_Speed_kmph' and fill with the calculated averages\n",
    "for i, direction in enumerate(directions):\n",
    "    # Access the average speed corresponding to each dataset and direction\n",
    "    avg_speed = list(average_speeds.values())[i]\n",
    "    \n",
    "    # Update the 'Average_Speed_kmph' column in the combined data\n",
    "    combined_data.loc[combined_data['Direction'] == direction, 'Average_Speed_kmph'] = avg_speed\n",
    "\n",
    "# Save the updated combined dataset\n",
    "combined_data.to_csv('../outputs/combined_traffic_data.csv', index=False)\n",
    "\n",
    "# Display the updated dataset\n",
    "print(combined_data)\n"
   ]
  },
  {
   "cell_type": "code",
   "execution_count": 4,
   "metadata": {},
   "outputs": [
    {
     "name": "stdout",
     "output_type": "stream",
     "text": [
      "  Direction  Traffic_Volume  Average_Speed_kmph  Queue_Length_meters\n",
      "0     North        3.236842            2.140290             2.209094\n",
      "1     South       14.354610           57.342189            12.616979\n",
      "2      East       14.296610           45.886156             7.948289\n",
      "3      West       11.818770          184.353327            18.518359\n"
     ]
    }
   ],
   "source": [
    "import pandas as pd\n",
    "\n",
    "# File names of your datasets\n",
    "files = ['../outputs/frames_video1_metrics.csv', '../outputs/frames_video2_metrics.csv', '../outputs/frames_video3_metrics.csv', '../outputs/frames_video4_metrics.csv']\n",
    "\n",
    "\n",
    "\n",
    "# List to store the averages of 'Queue_Length_meters'\n",
    "queue_lengths = {}\n",
    "\n",
    "# Calculate averages for 'Queue_Length_meters' in each dataset\n",
    "for file in files:\n",
    "    # Load each dataset\n",
    "    df = pd.read_csv(file)\n",
    "    \n",
    "    # Ensure the column exists and calculate the average\n",
    "    if 'Queue_Length_meters' in df.columns:\n",
    "        queue_length = df['Queue_Length_meters'].mean()\n",
    "        queue_lengths[file] = queue_length\n",
    "\n",
    "# Directions corresponding to the datasets\n",
    "directions = ['North', 'South', 'East', 'West']\n",
    "\n",
    "# Load the existing combined dataset\n",
    "combined_data = pd.read_csv('../outputs/combined_traffic_data.csv')\n",
    "\n",
    "# Add a new column 'Queue_Length_meters' and fill with the calculated averages\n",
    "for i, direction in enumerate(directions):\n",
    "    # Access the average queue length corresponding to each dataset and direction\n",
    "    avg_queue_length = list(queue_lengths.values())[i]\n",
    "    \n",
    "    # Update the 'Queue_Length_meters' column in the combined data\n",
    "    combined_data.loc[combined_data['Direction'] == direction, 'Queue_Length_meters'] = avg_queue_length\n",
    "\n",
    "# Save the updated combined dataset\n",
    "combined_data.to_csv('../outputs/combined_traffic_data.csv', index=False)\n",
    "\n",
    "# Display the updated dataset\n",
    "print(combined_data)\n"
   ]
  },
  {
   "cell_type": "code",
   "execution_count": 5,
   "metadata": {},
   "outputs": [
    {
     "name": "stdout",
     "output_type": "stream",
     "text": [
      "  Direction  Traffic_Volume  Average_Speed_kmph  Queue_Length_meters  \\\n",
      "0     North        3.236842            2.140290             2.209094   \n",
      "1     South       14.354610           57.342189            12.616979   \n",
      "2      East       14.296610           45.886156             7.948289   \n",
      "3      West       11.818770          184.353327            18.518359   \n",
      "\n",
      "   Traffic_Density_vehicles_per_meter  \n",
      "0                            0.193455  \n",
      "1                            1.034421  \n",
      "2                            1.968353  \n",
      "3                            0.678189  \n"
     ]
    }
   ],
   "source": [
    "import pandas as pd\n",
    "\n",
    "# File names of your datasets\n",
    "files = ['../outputs/frames_video1_metrics.csv', '../outputs/frames_video2_metrics.csv', '../outputs/frames_video3_metrics.csv', '../outputs/frames_video4_metrics.csv']\n",
    "\n",
    "\n",
    "\n",
    "# List to store the averages of 'Traffic_Density_vehicles_per_meter'\n",
    "traffic_density = {}\n",
    "\n",
    "# Calculate averages for 'Traffic_Density_vehicles_per_meter' in each dataset\n",
    "for file in files:\n",
    "    # Load each dataset\n",
    "    df = pd.read_csv(file)\n",
    "    \n",
    "    # Ensure the column exists and calculate the average\n",
    "    if 'Traffic_Density_vehicles_per_meter' in df.columns:\n",
    "        density = df['Traffic_Density_vehicles_per_meter'].mean()\n",
    "        traffic_density[file] = density\n",
    "\n",
    "# Directions corresponding to the datasets\n",
    "directions = ['North', 'South', 'East', 'West']\n",
    "\n",
    "# Load the existing combined dataset\n",
    "combined_data = pd.read_csv('../outputs/combined_traffic_data.csv')\n",
    "\n",
    "# Add a new column 'Traffic_Density_vehicles_per_meter' and fill with the calculated averages\n",
    "for i, direction in enumerate(directions):\n",
    "    # Access the average traffic density corresponding to each dataset and direction\n",
    "    avg_density = list(traffic_density.values())[i]\n",
    "    \n",
    "    # Update the 'Traffic_Density_vehicles_per_meter' column in the combined data\n",
    "    combined_data.loc[combined_data['Direction'] == direction, 'Traffic_Density_vehicles_per_meter'] = avg_density\n",
    "\n",
    "# Save the updated combined dataset\n",
    "combined_data.to_csv('../outputs/combined_traffic_data.csv', index=False)\n",
    "\n",
    "# Display the updated dataset\n",
    "print(combined_data)\n"
   ]
  },
  {
   "cell_type": "code",
   "execution_count": null,
   "metadata": {},
   "outputs": [],
   "source": []
  }
 ],
 "metadata": {
  "kernelspec": {
   "display_name": "Python 3",
   "language": "python",
   "name": "python3"
  },
  "language_info": {
   "codemirror_mode": {
    "name": "ipython",
    "version": 3
   },
   "file_extension": ".py",
   "mimetype": "text/x-python",
   "name": "python",
   "nbconvert_exporter": "python",
   "pygments_lexer": "ipython3",
   "version": "3.12.2"
  }
 },
 "nbformat": 4,
 "nbformat_minor": 2
}
